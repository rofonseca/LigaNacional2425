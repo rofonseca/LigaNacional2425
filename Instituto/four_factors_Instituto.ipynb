{
 "cells": [
  {
   "cell_type": "code",
   "execution_count": 1,
   "metadata": {},
   "outputs": [],
   "source": [
    "import numpy as np\n",
    "import pandas as pd\n",
    "import statistics"
   ]
  },
  {
   "cell_type": "code",
   "execution_count": 2,
   "metadata": {},
   "outputs": [],
   "source": [
    "import sys\n",
    "sys.path.append('../fun/')\n",
    "import more_functions"
   ]
  },
  {
   "cell_type": "markdown",
   "metadata": {},
   "source": [
    "# Fecha 01 - Instituto vs Olímpico (LB)"
   ]
  },
  {
   "cell_type": "code",
   "execution_count": 4,
   "metadata": {},
   "outputs": [
    {
     "name": "stdout",
     "output_type": "stream",
     "text": [
      "shooting offensive:  0.7258064516129032\n",
      "shooting defensive:  0.4473684210526316\n",
      "turnover offensive:  0.13743128435782107\n",
      "turnover defensive:  0.19047619047619047\n",
      "rebounding offensive:  0.20833333333333334\n",
      "rebounding defensive:  0.6857142857142857\n",
      "Free throws offensive:  0.14516129032258066\n",
      "Free throws defense:  0.38596491228070173\n"
     ]
    }
   ],
   "source": [
    "local_path ='../data/Partido_3_local.csv'\n",
    "visit_path ='../data/Partido_3_visitante.csv'\n",
    "more_functions.show_four_factors(local_path, visit_path)"
   ]
  },
  {
   "cell_type": "markdown",
   "metadata": {},
   "source": [
    "# Fecha 02 - Regatas (C) vs Instituto"
   ]
  },
  {
   "cell_type": "code",
   "execution_count": 5,
   "metadata": {},
   "outputs": [
    {
     "name": "stdout",
     "output_type": "stream",
     "text": [
      "shooting offensive:  0.5227272727272727\n",
      "shooting defensive:  0.6293103448275862\n",
      "turnover offensive:  0.10090817356205853\n",
      "turnover defensive:  0.16129032258064516\n",
      "rebounding offensive:  0.1794871794871795\n",
      "rebounding defensive:  0.8214285714285714\n",
      "Free throws offensive:  0.12121212121212122\n",
      "Free throws defense:  0.15517241379310345\n"
     ]
    }
   ],
   "source": [
    "local_path ='../data/Partido_8_visitante.csv'\n",
    "visit_path ='../data/Partido_8_local.csv'\n",
    "more_functions.show_four_factors(local_path, visit_path)"
   ]
  },
  {
   "cell_type": "markdown",
   "metadata": {},
   "source": [
    "# Fecha 03 - San Martín (C) vs Instituto"
   ]
  },
  {
   "cell_type": "code",
   "execution_count": 6,
   "metadata": {},
   "outputs": [
    {
     "name": "stdout",
     "output_type": "stream",
     "text": [
      "shooting offensive:  0.5740740740740741\n",
      "shooting defensive:  0.35714285714285715\n",
      "turnover offensive:  0.1695357329160146\n",
      "turnover defensive:  0.13691128148959475\n",
      "rebounding offensive:  0.3333333333333333\n",
      "rebounding defensive:  0.8536585365853658\n",
      "Free throws offensive:  0.25925925925925924\n",
      "Free throws defense:  0.25\n"
     ]
    }
   ],
   "source": [
    "local_path ='../data/Partido_12_visitante.csv'\n",
    "visit_path ='../data/Partido_12_local.csv'\n",
    "more_functions.show_four_factors(local_path, visit_path)"
   ]
  },
  {
   "cell_type": "markdown",
   "metadata": {},
   "source": [
    "# Fecha 04 - La Unión FSA. vs Insatituto"
   ]
  },
  {
   "cell_type": "code",
   "execution_count": 7,
   "metadata": {},
   "outputs": [
    {
     "name": "stdout",
     "output_type": "stream",
     "text": [
      "shooting offensive:  0.5546875\n",
      "shooting defensive:  0.5303030303030303\n",
      "turnover offensive:  0.13336566440349176\n",
      "turnover defensive:  0.12106537530266345\n",
      "rebounding offensive:  0.25806451612903225\n",
      "rebounding defensive:  0.8461538461538461\n",
      "Free throws offensive:  0.21875\n",
      "Free throws defense:  0.13636363636363635\n"
     ]
    }
   ],
   "source": [
    "local_path ='../data/Partido_17_visitante.csv'\n",
    "visit_path ='../data/Partido_17_local.csv'\n",
    "more_functions.show_four_factors(local_path, visit_path)"
   ]
  },
  {
   "cell_type": "markdown",
   "metadata": {},
   "source": [
    "# Fecha 05 - Atenas (C) vs Instituto"
   ]
  },
  {
   "cell_type": "code",
   "execution_count": 8,
   "metadata": {},
   "outputs": [
    {
     "name": "stdout",
     "output_type": "stream",
     "text": [
      "shooting offensive:  0.6810344827586207\n",
      "shooting defensive:  0.5081967213114754\n",
      "turnover offensive:  0.12012813667912439\n",
      "turnover defensive:  0.12260912211868563\n",
      "rebounding offensive:  0.2\n",
      "rebounding defensive:  0.6857142857142857\n",
      "Free throws offensive:  0.13793103448275862\n",
      "Free throws defense:  0.19672131147540983\n"
     ]
    }
   ],
   "source": [
    "local_path ='../data/Partido_29_visitante.csv'\n",
    "visit_path ='../data/Partido_29_local.csv'\n",
    "more_functions.show_four_factors(local_path, visit_path)"
   ]
  },
  {
   "cell_type": "markdown",
   "metadata": {},
   "source": [
    "# Fecha 06 - Independiente (O) vs Instituto"
   ]
  },
  {
   "cell_type": "code",
   "execution_count": 9,
   "metadata": {},
   "outputs": [
    {
     "name": "stdout",
     "output_type": "stream",
     "text": [
      "shooting offensive:  0.5068493150684932\n",
      "shooting defensive:  0.5\n",
      "turnover offensive:  0.06732495511669659\n",
      "turnover defensive:  0.19379844961240308\n",
      "rebounding offensive:  0.19047619047619047\n",
      "rebounding defensive:  0.9117647058823529\n",
      "Free throws offensive:  0.1780821917808219\n",
      "Free throws defense:  0.25\n"
     ]
    }
   ],
   "source": [
    "local_path ='../data/Partido_44_visitante.csv'\n",
    "visit_path ='../data/Partido_44_local.csv'\n",
    "more_functions.show_four_factors(local_path, visit_path)"
   ]
  },
  {
   "cell_type": "markdown",
   "metadata": {},
   "source": [
    "# Fecha 07 - Instituto vs San Lorenzo"
   ]
  },
  {
   "cell_type": "code",
   "execution_count": 10,
   "metadata": {},
   "outputs": [
    {
     "name": "stdout",
     "output_type": "stream",
     "text": [
      "shooting offensive:  0.5763888888888888\n",
      "shooting defensive:  0.5\n",
      "turnover offensive:  0.10273972602739727\n",
      "turnover defensive:  0.2614824920418372\n",
      "rebounding offensive:  0.20512820512820512\n",
      "rebounding defensive:  0.8529411764705882\n",
      "Free throws offensive:  0.1527777777777778\n",
      "Free throws defense:  0.06557377049180328\n"
     ]
    }
   ],
   "source": [
    "local_path ='../data/Partido_65_local.csv'\n",
    "visit_path ='../data/Partido_65_visitante.csv'\n",
    "more_functions.show_four_factors(local_path, visit_path)"
   ]
  },
  {
   "cell_type": "markdown",
   "metadata": {},
   "source": [
    "# Fecha 08 - Instituto vs Ferro"
   ]
  },
  {
   "cell_type": "code",
   "execution_count": 11,
   "metadata": {},
   "outputs": [
    {
     "name": "stdout",
     "output_type": "stream",
     "text": [
      "shooting offensive:  0.5403225806451613\n",
      "shooting defensive:  0.37857142857142856\n",
      "turnover offensive:  0.22985989492119088\n",
      "turnover defensive:  0.16877637130801687\n",
      "rebounding offensive:  0.4411764705882353\n",
      "rebounding defensive:  0.6444444444444445\n",
      "Free throws offensive:  0.1935483870967742\n",
      "Free throws defense:  0.2\n"
     ]
    }
   ],
   "source": [
    "local_path ='../data/Partido_74_local.csv'\n",
    "visit_path ='../data/Partido_74_visitante.csv'\n",
    "more_functions.show_four_factors(local_path, visit_path)"
   ]
  },
  {
   "cell_type": "code",
   "execution_count": null,
   "metadata": {},
   "outputs": [],
   "source": []
  }
 ],
 "metadata": {
  "kernelspec": {
   "display_name": "base",
   "language": "python",
   "name": "python3"
  },
  "language_info": {
   "codemirror_mode": {
    "name": "ipython",
    "version": 3
   },
   "file_extension": ".py",
   "mimetype": "text/x-python",
   "name": "python",
   "nbconvert_exporter": "python",
   "pygments_lexer": "ipython3",
   "version": "3.8.3"
  }
 },
 "nbformat": 4,
 "nbformat_minor": 2
}
