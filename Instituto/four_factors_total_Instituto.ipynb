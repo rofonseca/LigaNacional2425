{
 "cells": [
  {
   "cell_type": "code",
   "execution_count": 2,
   "metadata": {},
   "outputs": [],
   "source": [
    "import numpy as np\n",
    "import pandas as pd\n",
    "import statistics"
   ]
  },
  {
   "cell_type": "code",
   "execution_count": 3,
   "metadata": {},
   "outputs": [],
   "source": [
    "import sys\n",
    "sys.path.append('../fun/')\n",
    "import more_functions"
   ]
  },
  {
   "cell_type": "code",
   "execution_count": 4,
   "metadata": {},
   "outputs": [],
   "source": [
    "list_path_local = ['../data/Partido_3_local.csv',\n",
    "                   '../data/Partido_8_visitante.csv',\n",
    "                   '../data/Partido_12_visitante.csv',\n",
    "                   '../data/Partido_17_visitante.csv',\n",
    "                   '../data/Partido_29_visitante.csv',\n",
    "                   '../data/Partido_44_visitante.csv',\n",
    "                   '../data/Partido_65_local.csv',\n",
    "                   '../data/Partido_74_local.csv']\n",
    "list_path_visit = ['../data/Partido_3_visitante.csv',\n",
    "                   '../data/Partido_8_local.csv',\n",
    "                   '../data/Partido_12_local.csv',\n",
    "                   '../data/Partido_17_local.csv',\n",
    "                   '../data/Partido_29_local.csv',\n",
    "                   '../data/Partido_44_local.csv',\n",
    "                   '../data/Partido_65_visitante.csv',\n",
    "                   '../data/Partido_74_visitante.csv']"
   ]
  },
  {
   "cell_type": "code",
   "execution_count": 5,
   "metadata": {},
   "outputs": [],
   "source": [
    "[shoot_offense, shoot_defense, turn_offense, turn_defense, rb_offense, rb_defense, free_offense, free_defense] = more_functions.four_factors_season(list_path_local, list_path_visit)"
   ]
  },
  {
   "cell_type": "code",
   "execution_count": 6,
   "metadata": {},
   "outputs": [
    {
     "name": "stdout",
     "output_type": "stream",
     "text": [
      "shooting offensive:  0.5852363207219268\n",
      "shooting defensive:  0.48136160040112613\n",
      "turnover offensive:  0.1326616959979744\n",
      "turnover defensive:  0.1695512006162546\n",
      "rebounding offensive:  0.2519999035594387\n",
      "rebounding defensive:  0.7877274815492176\n",
      "Free throws offensive:  0.1758402577415117\n",
      "Free throws defense:  0.20497450555058183\n"
     ]
    }
   ],
   "source": [
    "more_functions.show_four_factors_season(list_path_local, list_path_visit)"
   ]
  },
  {
   "cell_type": "code",
   "execution_count": null,
   "metadata": {},
   "outputs": [],
   "source": []
  }
 ],
 "metadata": {
  "kernelspec": {
   "display_name": "base",
   "language": "python",
   "name": "python3"
  },
  "language_info": {
   "codemirror_mode": {
    "name": "ipython",
    "version": 3
   },
   "file_extension": ".py",
   "mimetype": "text/x-python",
   "name": "python",
   "nbconvert_exporter": "python",
   "pygments_lexer": "ipython3",
   "version": "3.8.3"
  }
 },
 "nbformat": 4,
 "nbformat_minor": 2
}
