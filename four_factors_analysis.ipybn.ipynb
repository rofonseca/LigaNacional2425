{
 "cells": [
  {
   "cell_type": "code",
   "execution_count": 1,
   "metadata": {},
   "outputs": [],
   "source": [
    "import numpy as np\n",
    "import pandas as pd\n",
    "import statistics"
   ]
  },
  {
   "cell_type": "code",
   "execution_count": 2,
   "metadata": {},
   "outputs": [],
   "source": [
    "import sys\n",
    "sys.path.append('./fun/')\n",
    "import more_functions"
   ]
  },
  {
   "cell_type": "code",
   "execution_count": 13,
   "metadata": {},
   "outputs": [],
   "source": [
    "# We create empty vectors to then store the respective calculated values \n",
    "shoot_offense = []\n",
    "shoot_defense = []\n",
    "turn_offense = []\n",
    "turn_defense = []\n",
    "rb_offense = []\n",
    "rb_defense = []\n",
    "free_offense = []\n",
    "free_defense = []"
   ]
  },
  {
   "cell_type": "code",
   "execution_count": 10,
   "metadata": {},
   "outputs": [],
   "source": [
    "local_path ='data/Partido_3_local.csv'\n",
    "visit_path ='data/Partido_3_visitante.csv'\n",
    "[shoot_o, shoot_d, turn_o, turn_d, rb_o, rb_d, free_o, free_d] = more_functions.four_factors(local_path, visit_path)"
   ]
  },
  {
   "cell_type": "code",
   "execution_count": 15,
   "metadata": {},
   "outputs": [],
   "source": [
    "shoot_offense.append(shoot_o)\n",
    "shoot_defense.append(shoot_d)\n",
    "turn_offense.append(turn_o)\n",
    "turn_defense.append(turn_d)\n",
    "rb_offense.append(rb_o)\n",
    "rb_defense.append(rb_d)\n",
    "free_offense.append(free_o)\n",
    "free_defense.append(free_d)"
   ]
  },
  {
   "cell_type": "markdown",
   "metadata": {},
   "source": [
    "En este caso se invierte el rol de visitante y local porque estamos analizando a instituto que jugó de visitante"
   ]
  },
  {
   "cell_type": "code",
   "execution_count": null,
   "metadata": {},
   "outputs": [],
   "source": [
    "local_path ='data/Partido_8_visitante.csv'\n",
    "visit_path ='data/Partido_8_local.csv'\n",
    "[shoot_o, shoot_d, turn_o, turn_d, rb_o, rb_d, free_o, free_d] = more_functions.four_factors(local_path, visit_path)"
   ]
  },
  {
   "cell_type": "code",
   "execution_count": 17,
   "metadata": {},
   "outputs": [],
   "source": [
    "shoot_offense.append(shoot_o)\n",
    "shoot_defense.append(shoot_d)\n",
    "turn_offense.append(turn_o)\n",
    "turn_defense.append(turn_d)\n",
    "rb_offense.append(rb_o)\n",
    "rb_defense.append(rb_d)\n",
    "free_offense.append(free_o)\n",
    "free_defense.append(free_d)"
   ]
  },
  {
   "cell_type": "code",
   "execution_count": 18,
   "metadata": {},
   "outputs": [
    {
     "data": {
      "text/plain": [
       "[0.7258064516129032, 0.5227272727272727]"
      ]
     },
     "execution_count": 18,
     "metadata": {},
     "output_type": "execute_result"
    }
   ],
   "source": [
    "shoot_offense"
   ]
  },
  {
   "cell_type": "markdown",
   "metadata": {},
   "source": [
    "Podemos ver que tenemos 2 resultados, ahora lo que necesitamos es hacer el promedio entre ambos"
   ]
  },
  {
   "cell_type": "code",
   "execution_count": 21,
   "metadata": {},
   "outputs": [
    {
     "data": {
      "text/plain": [
       "0.624266862170088"
      ]
     },
     "execution_count": 21,
     "metadata": {},
     "output_type": "execute_result"
    }
   ],
   "source": [
    "statistics.mean(shoot_offense)"
   ]
  },
  {
   "cell_type": "markdown",
   "metadata": {},
   "source": [
    "## Ahora si queremos analizar directamente toda la temporada"
   ]
  },
  {
   "cell_type": "code",
   "execution_count": 3,
   "metadata": {},
   "outputs": [],
   "source": [
    "list_path_local = ['data/Partido_3_local.csv','data/Partido_8_visitante.csv']\n",
    "list_path_visit = ['data/Partido_3_visitante.csv','data/Partido_8_local.csv']"
   ]
  },
  {
   "cell_type": "code",
   "execution_count": 4,
   "metadata": {},
   "outputs": [],
   "source": [
    "[shoot_offense, shoot_defense, turn_offense, turn_defense, rb_offense, rb_defense, free_offense, free_defense] = more_functions.four_factors_season(list_path_local, list_path_visit)"
   ]
  },
  {
   "cell_type": "code",
   "execution_count": 5,
   "metadata": {},
   "outputs": [
    {
     "name": "stdout",
     "output_type": "stream",
     "text": [
      "shooting offensive:  0.624266862170088\n",
      "shooting defensive:  0.5383393829401089\n",
      "turnover offensive:  0.1191697289599398\n",
      "turnover defensive:  0.1758832565284178\n",
      "rebounding offensive:  0.19391025641025642\n",
      "rebounding defensive:  0.7535714285714286\n",
      "Free throws offensive:  0.13318670576735092\n",
      "Free throws defense:  0.2705686630369026\n"
     ]
    }
   ],
   "source": [
    "more_functions.show_four_factors_season(list_path_local, list_path_visit)"
   ]
  }
 ],
 "metadata": {
  "kernelspec": {
   "display_name": "base",
   "language": "python",
   "name": "python3"
  },
  "language_info": {
   "codemirror_mode": {
    "name": "ipython",
    "version": 3
   },
   "file_extension": ".py",
   "mimetype": "text/x-python",
   "name": "python",
   "nbconvert_exporter": "python",
   "pygments_lexer": "ipython3",
   "version": "3.8.3"
  }
 },
 "nbformat": 4,
 "nbformat_minor": 2
}
