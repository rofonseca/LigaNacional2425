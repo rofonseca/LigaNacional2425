{
 "cells": [
  {
   "cell_type": "code",
   "execution_count": 1,
   "metadata": {},
   "outputs": [],
   "source": [
    "import numpy as np\n",
    "import pandas as pd\n"
   ]
  },
  {
   "cell_type": "code",
   "execution_count": 2,
   "metadata": {},
   "outputs": [],
   "source": [
    "def rearmar_csv(path, date):\n",
    "    df = pd.read_csv(path)\n",
    "    df = df.rename(columns={'Unnamed: 1':'N° player', 'Nombre':'Player',\n",
    "                     'Min': 'Minutes', 'PTS': 'Total points', '%': '2P %',\n",
    "                     '%.1': '3P %', '%.2': 'Frees %', 'Def.': 'Defensive Rebound',\n",
    "                     'Ofe.':'Ofensive Rebound', 'Tot.':'Total Rebound',\n",
    "                     'AS': 'Asistences', 'REC':'Recover', 'PÉR': 'Turnover',\n",
    "                     'Com.':'Block Committed', 'Rec.':'Block Received',\n",
    "                     'Com..1':'Foul Committed', 'Rec..1':'Foul Received'})\n",
    "    df['Minutes'] = pd.to_datetime(df['Minutes'], format=\"%M:%S\").dt.time\n",
    "    df['Date'] = date\n",
    "    scored = []\n",
    "    intentados = []\n",
    "    for j in range(len(df['A/I.2'])):\n",
    "        libres = df['A/I.2'][j]\n",
    "        c, i = libres.split('/')\n",
    "        scored.append(int(c))\n",
    "        intentados.append(int(i))\n",
    "    df['Free throws scored'] = scored\n",
    "    df['Free throws I.P.P.'] = intentados\n",
    "    scored = []\n",
    "    intentados = []\n",
    "    for j in range(len(df['A/I.1'])):\n",
    "        triples = df['A/I.1'][j]\n",
    "        c, i = triples.split('/')\n",
    "        scored.append(int(c))\n",
    "        intentados.append(int(i))\n",
    "    df['3P throws scored'] = scored\n",
    "    df['3P throws I.P.P.'] = intentados\n",
    "    scored = []\n",
    "    intentados = []\n",
    "    for j in range(len(df['A/I'])):\n",
    "        dobles = df['A/I'][j]\n",
    "        c, i = dobles.split('/')\n",
    "        scored.append(int(c))\n",
    "        intentados.append(int(i))\n",
    "    df['2P throws scored'] = scored\n",
    "    df['2P throws I.P.P.'] = intentados\n",
    "    df.drop(['Unnamed: 0','A/I','A/I.1','A/I.2'], axis=1)\n",
    "    nuevo_orden = ['Date', 'N° player','Player', 'Minutes','Total points','Free throws scored','Free throws I.P.P.',\n",
    "        'Frees %','2P throws scored','2P throws I.P.P.','2P %','3P throws scored','3P throws I.P.P.','3P %',\n",
    "        'Ofensive Rebound','Defensive Rebound','Total Rebound','Asistences','Block Committed','Block Received',\n",
    "        'Recover','Turnover','Foul Committed','Foul Received']\n",
    "    df = df[nuevo_orden]\n",
    "    return df"
   ]
  },
  {
   "cell_type": "code",
   "execution_count": 24,
   "metadata": {},
   "outputs": [],
   "source": [
    "path = 'liga_data_0.csv'\n",
    "date = '11/10/2024'\n",
    "df = rearmar_csv(path, date)"
   ]
  },
  {
   "cell_type": "code",
   "execution_count": 25,
   "metadata": {},
   "outputs": [],
   "source": [
    "nombre = 'data/Partido_9_local.csv'\n",
    "df.to_csv(nombre, index=False)"
   ]
  },
  {
   "cell_type": "code",
   "execution_count": 26,
   "metadata": {},
   "outputs": [],
   "source": [
    "path = 'liga_data_1.csv'\n",
    "date = '11/10/2024'\n",
    "df = rearmar_csv(path, date)"
   ]
  },
  {
   "cell_type": "code",
   "execution_count": 27,
   "metadata": {},
   "outputs": [],
   "source": [
    "nombre = 'data/Partido_9_visitante.csv'\n",
    "df.to_csv(nombre, index=False)"
   ]
  },
  {
   "cell_type": "code",
   "execution_count": null,
   "metadata": {},
   "outputs": [],
   "source": []
  }
 ],
 "metadata": {
  "kernelspec": {
   "display_name": "base",
   "language": "python",
   "name": "python3"
  },
  "language_info": {
   "codemirror_mode": {
    "name": "ipython",
    "version": 3
   },
   "file_extension": ".py",
   "mimetype": "text/x-python",
   "name": "python",
   "nbconvert_exporter": "python",
   "pygments_lexer": "ipython3",
   "version": "3.8.3"
  }
 },
 "nbformat": 4,
 "nbformat_minor": 2
}
