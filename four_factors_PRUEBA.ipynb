{
 "cells": [
  {
   "cell_type": "markdown",
   "metadata": {},
   "source": [
    "# Four factors of basketball success"
   ]
  },
  {
   "cell_type": "markdown",
   "metadata": {},
   "source": [
    "Shooting (40%)\n",
    "\n",
    "Turnovers (25%)\n",
    "\n",
    "Rebounding (20%)\n",
    "\n",
    "Free Throws (15%)"
   ]
  },
  {
   "cell_type": "markdown",
   "metadata": {},
   "source": [
    "Los tiros son el factor más importante, seguido por las pérdudas de balon, los rebotes y los tiros libres. Estos factores se pueden aplicar tanto a la ofensiva como a la defensa de un equipo, lo que en cierto sentido nos da ocho factores."
   ]
  },
  {
   "cell_type": "markdown",
   "metadata": {},
   "source": [
    "## Shooting\n",
    "\n",
    "El factor de tiro (shooting) se mide usando el porcentaje de tiros de campo efectivos (eFG%)\n",
    "La fórmula tanto para la ofensiva como para la defensiva es\n",
    "\n",
    "(FG+0.5*3P)/FGA\n",
    "\n",
    "FG = tiros de campo (incluye tanto tiros de 2 puntos como de 3 puntos) - CONVERTIDOS\n",
    "\n",
    "3P = tiros de 3 puntos convertidos\n",
    "\n",
    "FGA = tiros de campo intentados (incluye tanto tiros de 2 puntos como de 3 puntos intentados)"
   ]
  },
  {
   "cell_type": "code",
   "execution_count": 1,
   "metadata": {},
   "outputs": [],
   "source": [
    "import numpy as np\n",
    "import pandas as pd"
   ]
  },
  {
   "cell_type": "code",
   "execution_count": 2,
   "metadata": {},
   "outputs": [],
   "source": [
    "path = 'data/Partido_3_local.csv'\n",
    "df = pd.read_csv(path)"
   ]
  },
  {
   "cell_type": "code",
   "execution_count": 10,
   "metadata": {},
   "outputs": [
    {
     "data": {
      "text/plain": [
       "Index(['Date', 'N° player', 'Player', 'Minutes', 'Total points',\n",
       "       'Free throws scored', 'Free throws I.P.P.', 'Frees %',\n",
       "       '2P throws scored', '2P throws I.P.P.', '2P %', '3P throws scored',\n",
       "       '3P throws I.P.P.', '3P %', 'Ofensive Rebound', 'Defensive Rebound',\n",
       "       'Total Rebound', 'Asistences', 'Block Committed', 'Block Received',\n",
       "       'Recover', 'Turnover', 'Foul Committed', 'Foul Received'],\n",
       "      dtype='object')"
      ]
     },
     "execution_count": 10,
     "metadata": {},
     "output_type": "execute_result"
    }
   ],
   "source": [
    "df.columns"
   ]
  },
  {
   "cell_type": "code",
   "execution_count": 14,
   "metadata": {},
   "outputs": [],
   "source": [
    "def shooting(local_path, visit_path):\n",
    "    df = pd.read_csv(local_path)\n",
    "    FG = df['2P throws scored'].sum()+df['3P throws scored'].sum()\n",
    "    P3 = df['3P throws scored'].sum()\n",
    "    FGA = df['2P throws I.P.P.'].sum()+df['3P throws I.P.P.'].sum()\n",
    "    offense = (FG+0.5*P3)/FGA\n",
    "    df = pd.read_csv(visit_path)\n",
    "    FG = df['2P throws scored'].sum()+df['3P throws scored'].sum()\n",
    "    P3 = df['3P throws scored'].sum()\n",
    "    FGA = df['2P throws I.P.P.'].sum()+df['3P throws I.P.P.'].sum()\n",
    "    defense = (FG+0.5*P3)/FGA\n",
    "    return offense, defense"
   ]
  },
  {
   "cell_type": "code",
   "execution_count": 16,
   "metadata": {},
   "outputs": [
    {
     "name": "stdout",
     "output_type": "stream",
     "text": [
      "Offense shooting:  0.7258064516129032\n",
      "Defeense shooting:  0.4473684210526316\n"
     ]
    }
   ],
   "source": [
    "local_path = 'data/Partido_3_local.csv'\n",
    "visit_path = 'data/Partido_3_visitante.csv'\n",
    "sh = shooting(local_path, visit_path)\n",
    "print('Offense shooting: ', sh[0])\n",
    "print('Defeense shooting: ', sh[1])"
   ]
  },
  {
   "cell_type": "markdown",
   "metadata": {},
   "source": [
    "## Turnovers\n",
    "\n",
    "El factor de pérdidas (turnover) se mire utilizando el porcentaje de pérdidas (TOV%). La fórmula tanto para la ofensiva como para la defensiva es:\n",
    "\n",
    "TOV/(FGA+0.44*FTA+TOV)\n",
    "\n",
    "TOV = pérdidas\n",
    "\n",
    "FTA = tiros libres intentados\n",
    "\n"
   ]
  },
  {
   "cell_type": "code",
   "execution_count": 18,
   "metadata": {},
   "outputs": [],
   "source": [
    "def turnover(local_path, visit_path):\n",
    "    df = pd.read_csv(local_path)\n",
    "    TOV = df['Turnover'].sum()\n",
    "    FTA = df['Free throws I.P.P.'].sum()\n",
    "    FGA = df['2P throws I.P.P.'].sum()+df['3P throws I.P.P.'].sum()\n",
    "    offense = TOV/(FGA+0.44*FTA+TOV)\n",
    "    df = pd.read_csv(visit_path)\n",
    "    TOV = df['Turnover'].sum()\n",
    "    FTA = df['Free throws I.P.P.'].sum()\n",
    "    FGA = df['2P throws I.P.P.'].sum()+df['3P throws I.P.P.'].sum()\n",
    "    defense = TOV/(FGA+0.44*FTA+TOV)\n",
    "    return offense, defense"
   ]
  },
  {
   "cell_type": "code",
   "execution_count": 19,
   "metadata": {},
   "outputs": [
    {
     "name": "stdout",
     "output_type": "stream",
     "text": [
      "Offense turnover:  0.13743128435782107\n",
      "Defeense turnover:  0.19047619047619047\n"
     ]
    }
   ],
   "source": [
    "local_path = 'data/Partido_3_local.csv'\n",
    "visit_path = 'data/Partido_3_visitante.csv'\n",
    "sh = turnover(local_path, visit_path)\n",
    "print('Offense turnover: ', sh[0])\n",
    "print('Defeense turnover: ', sh[1])"
   ]
  },
  {
   "cell_type": "markdown",
   "metadata": {},
   "source": [
    "## Rebounding\n",
    "\n",
    "El factor de rebotes (rebounding) se mide utilizando el porcentaje de rebote ofensivo y defensivo (ORB% y DRB% respectivamente). La fórmula para el ataque es:\n",
    "\n",
    "ORB/(ORB+DRB del oponente)\n",
    "\n",
    "mientras que la fórmula para la defensa es:\n",
    "\n",
    "DRB/(ORB del oponente + DRB)\n",
    "\n",
    "ORB = rebores defensivos\n",
    "\n",
    "DRB = rebotes defensivos"
   ]
  },
  {
   "cell_type": "code",
   "execution_count": 20,
   "metadata": {},
   "outputs": [],
   "source": [
    "def rebounding(local_path, visit_path):\n",
    "    df = pd.read_csv(local_path)\n",
    "    df_op = pd.read_csv(visit_path)\n",
    "    ORB = df['Ofensive Rebound'].sum()\n",
    "    DRB = df['Defensive Rebound'].sum()\n",
    "    ORB_op = df_op['Ofensive Rebound'].sum()\n",
    "    DRB_op = df_op['Defensive Rebound'].sum()\n",
    "    offense = ORB/(ORB+DRB_op)\n",
    "    defense = DRB/(ORB_op+DRB)\n",
    "    return offense, defense"
   ]
  },
  {
   "cell_type": "code",
   "execution_count": 21,
   "metadata": {},
   "outputs": [
    {
     "name": "stdout",
     "output_type": "stream",
     "text": [
      "Offense rebounding:  0.20833333333333334\n",
      "Defeense rebounding:  0.6857142857142857\n"
     ]
    }
   ],
   "source": [
    "local_path = 'data/Partido_3_local.csv'\n",
    "visit_path = 'data/Partido_3_visitante.csv'\n",
    "sh = rebounding(local_path, visit_path)\n",
    "print('Offense rebounding: ', sh[0])\n",
    "print('Defeense rebounding: ', sh[1])"
   ]
  },
  {
   "cell_type": "markdown",
   "metadata": {},
   "source": [
    "## Free Throws\n",
    "\n",
    "El factor de tiros libres es una medida de la frecuencia con la que un equipo llega a la linea y la frecuencia con la que anota. La fórmula tanto para la ofensiva como para la defensiva es:\n",
    "\n",
    "FT/FGA\n",
    "\n",
    "FT = tiros libres - ACERTADOS"
   ]
  },
  {
   "cell_type": "code",
   "execution_count": 25,
   "metadata": {},
   "outputs": [],
   "source": [
    "def free_throws(local_path, visit_path):\n",
    "    df = pd.read_csv(local_path)\n",
    "    FT = df['Free throws scored'].sum()\n",
    "    FGA = df['Free throws I.P.P.'].sum()\n",
    "    offense = FT/FGA\n",
    "    df = pd.read_csv(visit_path)\n",
    "    FT = df['Free throws scored'].sum()\n",
    "    FGA = df['Free throws I.P.P.'].sum()\n",
    "    defense = FT/FGA\n",
    "    return offense, defense"
   ]
  },
  {
   "cell_type": "code",
   "execution_count": 26,
   "metadata": {},
   "outputs": [
    {
     "name": "stdout",
     "output_type": "stream",
     "text": [
      "Offense free throws:  0.5625\n",
      "Defeense free throws:  0.88\n"
     ]
    }
   ],
   "source": [
    "local_path = 'data/Partido_3_local.csv'\n",
    "visit_path = 'data/Partido_3_visitante.csv'\n",
    "sh = free_throws(local_path, visit_path)\n",
    "print('Offense free throws: ', sh[0])\n",
    "print('Defeense free throws: ', sh[1])"
   ]
  },
  {
   "cell_type": "code",
   "execution_count": 27,
   "metadata": {},
   "outputs": [],
   "source": [
    "def four_factors(local_path, visit_path):\n",
    "    df = pd.read_csv(local_path)\n",
    "    df_op = pd.read_csv(visit_path)\n",
    "    FG = df['2P throws scored'].sum()+df['3P throws scored'].sum()\n",
    "    P3 = df['3P throws scored'].sum()\n",
    "    FGA = df['2P throws I.P.P.'].sum()+df['3P throws I.P.P.'].sum()\n",
    "    TOV = df['Turnover'].sum()\n",
    "    FTA = df['Free throws I.P.P.'].sum()\n",
    "    ORB = df['Ofensive Rebound'].sum()\n",
    "    DRB = df['Defensive Rebound'].sum()\n",
    "    FT = df['Free throws scored'].sum()\n",
    "\n",
    "    FG_op = df_op['2P throws scored'].sum()+df_op['3P throws scored'].sum()\n",
    "    P3_op = df_op['3P throws scored'].sum()\n",
    "    FGA_op = df_op['2P throws I.P.P.'].sum()+df_op['3P throws I.P.P.'].sum()\n",
    "    TOV_op = df_op['Turnover'].sum()\n",
    "    FTA_op = df_op['Free throws I.P.P.'].sum()\n",
    "    ORB_op = df_op['Ofensive Rebound'].sum()\n",
    "    DRB_op = df_op['Defensive Rebound'].sum()\n",
    "    FT_op = df_op['Free throws scored'].sum()\n",
    "\n",
    "    shoot_offense = (FG + 0.5*P3)/FGA\n",
    "    shoot_defense = (FG_op + 0.5*P3_op)/FGA_op\n",
    "    turn_offense = TOV/(FGA+0.44*FTA+TOV)\n",
    "    turn_defense = TOV_op/(FGA_op+0.44*FTA_op+TOV_op)\n",
    "    rb_offense = ORB/(ORB+DRB_op)\n",
    "    rb_defense = DRB/(ORB_op+DRB)\n",
    "    free_offense = FT/FGA\n",
    "    free_defense = FT_op/FGA_op\n",
    "\n",
    "    print('shooting offensive: ', shoot_offense)\n",
    "    print('shooting defensive: ', shoot_defense)\n",
    "    print('turnover offensive: ', turn_offense)\n",
    "    print('turnover defensive: ', turn_defense)\n",
    "    print('rebounding offensive: ', rb_offense)\n",
    "    print('rebounding defensive: ', rb_defense)\n",
    "    print('Free throws offensive: ', free_offense)\n",
    "    print('Free throws defense: ', free_defense)"
   ]
  },
  {
   "cell_type": "code",
   "execution_count": 28,
   "metadata": {},
   "outputs": [
    {
     "name": "stdout",
     "output_type": "stream",
     "text": [
      "shooting offensive:  0.7258064516129032\n",
      "shooting defensive:  0.4473684210526316\n",
      "turnover offensive:  0.13743128435782107\n",
      "turnover defensive:  0.19047619047619047\n",
      "rebounding offensive:  0.20833333333333334\n",
      "rebounding defensive:  0.6857142857142857\n",
      "Free throws offensive:  0.14516129032258066\n",
      "Free throws defense:  0.38596491228070173\n"
     ]
    }
   ],
   "source": [
    "local_path = 'data/Partido_3_local.csv'\n",
    "visit_path = 'data/Partido_3_visitante.csv'\n",
    "four_factors(local_path, visit_path)"
   ]
  },
  {
   "cell_type": "code",
   "execution_count": null,
   "metadata": {},
   "outputs": [],
   "source": []
  }
 ],
 "metadata": {
  "kernelspec": {
   "display_name": "base",
   "language": "python",
   "name": "python3"
  },
  "language_info": {
   "codemirror_mode": {
    "name": "ipython",
    "version": 3
   },
   "file_extension": ".py",
   "mimetype": "text/x-python",
   "name": "python",
   "nbconvert_exporter": "python",
   "pygments_lexer": "ipython3",
   "version": "3.8.3"
  }
 },
 "nbformat": 4,
 "nbformat_minor": 2
}
